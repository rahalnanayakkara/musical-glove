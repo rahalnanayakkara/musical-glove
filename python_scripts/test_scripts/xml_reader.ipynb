{
 "cells": [
  {
   "attachments": {},
   "cell_type": "markdown",
   "metadata": {},
   "source": [
    "## Load XML file using Element Tree"
   ]
  },
  {
   "cell_type": "code",
   "execution_count": 51,
   "metadata": {},
   "outputs": [],
   "source": [
    "import xml.etree.ElementTree as ET"
   ]
  },
  {
   "attachments": {},
   "cell_type": "markdown",
   "metadata": {},
   "source": [
    "### Get root of tree"
   ]
  },
  {
   "cell_type": "code",
   "execution_count": 52,
   "metadata": {},
   "outputs": [
    {
     "data": {
      "text/plain": [
       "<Element 'score-partwise' at 0x00000232C858F830>"
      ]
     },
     "execution_count": 52,
     "metadata": {},
     "output_type": "execute_result"
    }
   ],
   "source": [
    "mytree = ET.parse('Piano Fingering.musicxml')\n",
    "myroot = mytree.getroot()\n",
    "myroot"
   ]
  },
  {
   "cell_type": "code",
   "execution_count": 53,
   "metadata": {},
   "outputs": [
    {
     "name": "stdout",
     "output_type": "stream",
     "text": [
      "work\n",
      "identification\n",
      "defaults\n",
      "part-list\n",
      "part\n"
     ]
    }
   ],
   "source": [
    "for child in myroot:\n",
    "    print(child.tag)"
   ]
  },
  {
   "attachments": {},
   "cell_type": "markdown",
   "metadata": {},
   "source": [
    "## Get Node corresponding to 'part' Tag\n",
    "\n",
    "measure_list contains a list on nodes for each measure"
   ]
  },
  {
   "cell_type": "code",
   "execution_count": 91,
   "metadata": {},
   "outputs": [
    {
     "name": "stdout",
     "output_type": "stream",
     "text": [
      "<Element 'measure' at 0x00000232C8598EA0>\n",
      "<Element 'measure' at 0x00000232C85B9940>\n",
      "<Element 'measure' at 0x00000232C85BBB00>\n",
      "<Element 'measure' at 0x00000232C85CDD00>\n",
      "<Element 'measure' at 0x00000232C85DC5E0>\n",
      "<Element 'measure' at 0x00000232C85DEC00>\n",
      "<Element 'measure' at 0x00000232C85F0310>\n"
     ]
    }
   ],
   "source": [
    "measure_list = 0\n",
    "for child in myroot:\n",
    "    if child.tag=='part':\n",
    "        measure_list = child\n",
    "        break\n",
    "\n",
    "for measure in measure_list:\n",
    "    print(measure)"
   ]
  },
  {
   "cell_type": "code",
   "execution_count": 55,
   "metadata": {},
   "outputs": [
    {
     "data": {
      "text/plain": [
       "7"
      ]
     },
     "execution_count": 55,
     "metadata": {},
     "output_type": "execute_result"
    }
   ],
   "source": [
    "N_measures = len(measure_list)\n",
    "N_measures"
   ]
  },
  {
   "cell_type": "code",
   "execution_count": 56,
   "metadata": {},
   "outputs": [
    {
     "data": {
      "text/plain": [
       "<Element 'measure' at 0x00000232C85B9940>"
      ]
     },
     "execution_count": 56,
     "metadata": {},
     "output_type": "execute_result"
    }
   ],
   "source": [
    "first_measure = measure_list[1]\n",
    "first_measure"
   ]
  },
  {
   "attachments": {},
   "cell_type": "markdown",
   "metadata": {},
   "source": [
    "### Get Note List within measure"
   ]
  },
  {
   "cell_type": "code",
   "execution_count": 57,
   "metadata": {},
   "outputs": [
    {
     "name": "stdout",
     "output_type": "stream",
     "text": [
      "<Element 'note' at 0x00000232C85B9990>\n",
      "<Element 'note' at 0x00000232C85B9D50>\n",
      "<Element 'note' at 0x00000232C85BA160>\n",
      "<Element 'note' at 0x00000232C85BA520>\n",
      "<Element 'note' at 0x00000232C85BA930>\n",
      "<Element 'note' at 0x00000232C85BACF0>\n",
      "<Element 'note' at 0x00000232C85BB100>\n",
      "<Element 'note' at 0x00000232C85BB4C0>\n",
      "<Element 'backup' at 0x00000232C85BB8D0>\n",
      "<Element 'note' at 0x00000232C85BB970>\n"
     ]
    }
   ],
   "source": [
    "for child in first_measure:\n",
    "    print(child)"
   ]
  },
  {
   "cell_type": "code",
   "execution_count": 59,
   "metadata": {},
   "outputs": [
    {
     "data": {
      "text/plain": [
       "[<Element 'note' at 0x00000232C85B9990>,\n",
       " <Element 'note' at 0x00000232C85B9D50>,\n",
       " <Element 'note' at 0x00000232C85BA160>,\n",
       " <Element 'note' at 0x00000232C85BA520>,\n",
       " <Element 'note' at 0x00000232C85BA930>,\n",
       " <Element 'note' at 0x00000232C85BACF0>,\n",
       " <Element 'note' at 0x00000232C85BB100>,\n",
       " <Element 'note' at 0x00000232C85BB4C0>,\n",
       " <Element 'note' at 0x00000232C85BB970>]"
      ]
     },
     "execution_count": 59,
     "metadata": {},
     "output_type": "execute_result"
    }
   ],
   "source": [
    "note_list = []\n",
    "for child in first_measure:\n",
    "    if child.tag == 'note':\n",
    "        note_list.append(child)\n",
    "\n",
    "list(note_list)"
   ]
  },
  {
   "cell_type": "code",
   "execution_count": 60,
   "metadata": {},
   "outputs": [],
   "source": [
    "def isChord(note):\n",
    "    for child in note:\n",
    "        if child.tag=='chord':\n",
    "            return True\n",
    "    return False"
   ]
  },
  {
   "cell_type": "code",
   "execution_count": 65,
   "metadata": {},
   "outputs": [
    {
     "name": "stdout",
     "output_type": "stream",
     "text": [
      "False\n",
      "True\n",
      "False\n",
      "True\n",
      "False\n",
      "True\n",
      "False\n",
      "True\n",
      "False\n",
      "9\n",
      "5\n"
     ]
    }
   ],
   "source": [
    "count1 = 0\n",
    "count2 = 0\n",
    "\n",
    "count1 = len(note_list)\n",
    "\n",
    "for note in note_list:\n",
    "    print(isChord(note))\n",
    "    if isChord(note):\n",
    "        count2+=1\n",
    "\n",
    "print(count1)\n",
    "print(count1-count2)"
   ]
  },
  {
   "cell_type": "code",
   "execution_count": 81,
   "metadata": {},
   "outputs": [
    {
     "data": {
      "text/plain": [
       "True"
      ]
     },
     "execution_count": 81,
     "metadata": {},
     "output_type": "execute_result"
    }
   ],
   "source": [
    "(note_list[1].findall('staff')[0]).text=='1'"
   ]
  },
  {
   "cell_type": "code",
   "execution_count": 84,
   "metadata": {},
   "outputs": [],
   "source": [
    "def get_right_hand_notes(note_list):\n",
    "    right_list = []\n",
    "    for note in note_list:\n",
    "        if (note.findall('staff')[0]).text=='1':\n",
    "            right_list.append(note)\n",
    "    return right_list"
   ]
  },
  {
   "cell_type": "code",
   "execution_count": 92,
   "metadata": {},
   "outputs": [],
   "source": [
    "note_list = get_right_hand_notes(note_list)"
   ]
  },
  {
   "cell_type": "code",
   "execution_count": 93,
   "metadata": {},
   "outputs": [
    {
     "data": {
      "text/plain": [
       "4"
      ]
     },
     "execution_count": 93,
     "metadata": {},
     "output_type": "execute_result"
    }
   ],
   "source": [
    "count1 = 0\n",
    "count2 = 0\n",
    "\n",
    "count1 = len(note_list)\n",
    "\n",
    "for note in note_list:\n",
    "    if isChord(note):\n",
    "        count2+=1\n",
    "\n",
    "unique_notes = count1 - count2\n",
    "unique_notes"
   ]
  },
  {
   "cell_type": "code",
   "execution_count": null,
   "metadata": {},
   "outputs": [],
   "source": []
  }
 ],
 "metadata": {
  "kernelspec": {
   "display_name": "Python 3",
   "language": "python",
   "name": "python3"
  },
  "language_info": {
   "codemirror_mode": {
    "name": "ipython",
    "version": 3
   },
   "file_extension": ".py",
   "mimetype": "text/x-python",
   "name": "python",
   "nbconvert_exporter": "python",
   "pygments_lexer": "ipython3",
   "version": "3.11.1"
  },
  "orig_nbformat": 4
 },
 "nbformat": 4,
 "nbformat_minor": 2
}
